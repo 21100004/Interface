{
 "cells": [
  {
   "cell_type": "code",
   "execution_count": 1,
   "metadata": {},
   "outputs": [],
   "source": [
    "# Parameters\n",
    "\n",
    "slabLength = 1 # The length of the interface that light is allowed to\n",
    "               # shine on in SI units\n",
    "distH = 1 # The horizontal distance between the light source and the\n",
    "          # photomultiplier in SI units\n",
    "distS = 1 # The distance between the interface and the light source in\n",
    "          # SI units\n",
    "distP = 1 # The distance between the interface and the photomultiplier in\n",
    "          # SI units\n",
    "refIndex1 = 1 # The refractive index of medium 1\n",
    "refIndex2 = 1.33 # The refractive index of medium 2\n",
    "numPiece = 100000 # The number of pieces that the length of the interface\n",
    "                  # that light is allowed to shine on is divided into\n",
    "pieceLen = slabLength/numPiece # The length of each \"piece\" of the interface\n",
    "                               # in SI units\n",
    "speed = 3*(10**8) # The speed of light in SI units\n",
    "start = 0 # The position of the leftmost end of the length of the interface\n",
    "          # that light is allowed to shine on in SI units"
   ]
  },
  {
   "cell_type": "code",
   "execution_count": 2,
   "metadata": {},
   "outputs": [],
   "source": [
    "# The function that calculates the times for various paths that a photon\n",
    "# may take to travel from the light source to the photomultiplier\n",
    "\n",
    "def createTimes(numPiece, pieceLen, distH, distS, distP, start, speed):\n",
    "    timesList = []\n",
    "    for i in range(numPiece+1):\n",
    "        time = (math.sqrt((start+i*pieceLen)**2+distS**2)/(speed/refIndex1))\n",
    "        +(math.sqrt((start+i*pieceLen-distP)**2+distP**2)/(speed/refIndex2))\n",
    "        timesList.append(time)\n",
    "    return timesList"
   ]
  },
  {
   "cell_type": "code",
   "execution_count": 5,
   "metadata": {},
   "outputs": [
    {
     "data": {
      "image/png": "[encoded data removed]",
      "text/plain": [
       "<matplotlib.figure.Figure at 0xb31c09ebe0>"
      ]
     },
     "metadata": {},
     "output_type": "display_data"
    }
   ],
   "source": [
    "# Code that creates a plot\n",
    "\n",
    "import math\n",
    "import pylab\n",
    "timesList = createTimes(numPiece, pieceLen, distH, distS, distP, start, speed)\n",
    "length = []\n",
    "for i in range(numPiece+1):\n",
    "    length.append(i*pieceLen)\n",
    "pylab.figure(\"Time/Length\")\n",
    "pylab.title(\"Time/Length\")\n",
    "pylab.plot(length, timesList)\n",
    "pylab.xlabel(\"Length/m\")\n",
    "pylab.ylabel(\"Time/s\")\n",
    "pylab.show()"
   ]
  },
  {
   "cell_type": "code",
   "execution_count": 4,
   "metadata": {},
   "outputs": [
    {
     "name": "stdout",
     "output_type": "stream",
     "text": [
      "refractive_index_1 x sin(angle_of_incidence) = 0.507\n",
      "\n",
      "refractive_index_2 x sin(angle_of_refraction) = 0.507\n"
     ]
    }
   ],
   "source": [
    "# Code that finds the minimum time, calculates the corresponding angles\n",
    "# of incidence and refraction, and verifies Snell's law\n",
    "\n",
    "minTime = None\n",
    "for i in range(numPiece):\n",
    "    if minTime==None or timesList[i]<minTime:\n",
    "        minTime = timesList[i]\n",
    "        index = i\n",
    "if index==0 or index==numPiece-1:\n",
    "    print(\"Minimum time was not found.\")\n",
    "else:\n",
    "    angleI = math.pi/2-math.asin(distS/math.sqrt((distS**2)\n",
    "                                                 +(start+index*pieceLen)**2))\n",
    "    angleR = math.pi/2-math.asin(distP/math.sqrt(\n",
    "        (distP**2)+(start+index*pieceLen-distH)**2))\n",
    "    print(\"refractive_index_1 x sin(angle_of_incidence) =\", round(\n",
    "        refIndex1*math.sin(angleI), 3))\n",
    "    print(\"\")\n",
    "    print(\"refractive_index_2 x sin(angle_of_refraction) =\", round(\n",
    "        refIndex2*math.sin(angleR), 3))"
   ]
  }
 ],
 "metadata": {
  "kernelspec": {
   "display_name": "Python 3",
   "language": "python",
   "name": "python3"
  },
  "language_info": {
   "codemirror_mode": {
    "name": "ipython",
    "version": 3
   },
   "file_extension": ".py",
   "mimetype": "text/x-python",
   "name": "python",
   "nbconvert_exporter": "python",
   "pygments_lexer": "ipython3",
   "version": "3.6.4"
  }
 },
 "nbformat": 4,
 "nbformat_minor": 2
}
